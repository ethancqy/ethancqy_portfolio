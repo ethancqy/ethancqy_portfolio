{
 "cells": [
  {
   "cell_type": "markdown",
   "id": "d961ef06-4e9d-462c-95a1-425d2956ffd9",
   "metadata": {},
   "source": [
    "# Neural Network From Scratch (MNIST)\n",
    "This is a 3 layer Neural Network coded from scratch to perform Multiclass Classification on MNIST Data from [Digit Recogniser](https://www.kaggle.com/competitions/digit-recognizer/data) dataset on Kaggle. This project aims to demystify machine learning concepts by walking through each step of the model's implementation.\n",
    "\n",
    "**Table of Contents:**\n",
    "* *1. Overview*\n",
    "* *2. Concepts*\n",
    "    * 2.1 The Perceptron\n",
    "    * 2.2 What is Neural Network?\n",
    "    * 2.3 Linear Combination + Activation Functions\n",
    "    * 2.4 Loss & Backpropagation\n",
    "    * 2.5 Regularisation & Optimisation\n",
    "* *3. Data*\n",
    "    * 3.1 Dataset Summary\n",
    "    * 3.2 Training/Validation Split\n",
    "    * 3.3 Normalisation\n",
    "    * 3.4 One-Hot Encoding\n",
    "* *4. Model*\n",
    "    * 4.1 Parameter Initialisation\n",
    "    * 4.2 Defining Activation Functions\n",
    "    * 4.3 Forward Propagation\n",
    "    * 4.4 Backward Propagation\n",
    "    * 4.5 Model 1: Batch Gradient Descent\n",
    "    * 4.6 Model 2: Mini-Batch + Adam\n",
    "* *5. Training*\n",
    "* *6. Results*"
   ]
  },
  {
   "cell_type": "markdown",
   "id": "824431e3-7d30-4bb4-966c-fa3aa23e9d07",
   "metadata": {},
   "source": [
    "# Neural Network From Scratch (MNIST)\n",
    "This is a 3 layer Neural Network coded from scratch to perform Multiclass Classification on MNIST Data from [Digit Recogniser](https://www.kaggle.com/competitions/digit-recognizer/data) dataset on Kaggle. This project aims to demystify machine learning concepts by walking through each step of the model's implementation.\n",
    "\n",
    "**Table of Contents:**\n",
    "* *1. Overview*\n",
    "* *2. Concepts*\n",
    "    * 2.1 The Perceptron\n",
    "    * 2.2 What is Neural Network?\n",
    "    * 2.3 Linear Combination + Activation Functions\n",
    "    * 2.4 Loss & Backpropagation\n",
    "    * 2.5 Regularisation & Optimisation\n",
    "* *3. Data*\n",
    "    * 3.1 Dataset Summary\n",
    "    * 3.2 Training/Validation Split\n",
    "    * 3.3 Normalisation\n",
    "    * 3.4 One-Hot Encoding\n",
    "* *4. Model*\n",
    "    * 4.1 Parameter Initialisation\n",
    "    * 4.2 Defining Activation Functions\n",
    "    * 4.3 Forward Propagation\n",
    "    * 4.4 Backward Propagation\n",
    "    * 4.5 Model 1: Batch Gradient Descent\n",
    "    * 4.6 Model 2: Mini-Batch + Adam\n",
    "* *5. Training*\n",
    "* *6. Results*"
   ]
  },
  {
   "cell_type": "markdown",
   "id": "d65c6142-deac-4507-b584-7592d0ae888b",
   "metadata": {},
   "source": [
    "## 1. Overview\n",
    "This project was implemented entirely from scratch in Python, without libraries like TensorFlow or PyTorch, to gain a deeper understanding of the internal mechanics of neural networks. The following is short overview of the project:\n",
    "\n",
    "1. **Data**\n",
    "* The dataset contains 42000 labelled examples of 28x28 images flattened into 784 dimensional vectors. The pixel values range from 0-255 and no missing values were reported.\n",
    "* A secondary check for missing values was performed, along with a check on the frequency of each number 0-9 in the dataset. Pixel values were normalised from 0-255 to 0-1 and a one-hot encoding function was defined for later use in back propagation.\n",
    "* The dataset was shuffled and split into two smaller datasets with the labels separated from the input vectors (X_train, Y_train, X_cv, Y_cv). X_train and Y_train cover 35000 examples and will be used for training the model while X_cv and Y_cv have 7000 examples and will be used for cross validation/testing.\n",
    "\n",
    "2. **Model**\n",
    "* The model implemented consists of an input layer of 784 units, 1st hidden layer of 256 units using a ReLU activation function, 2nd hidden layer of 64 units using a ReLU activation function, and output layer of 10 units using the Softmax activation function.\n",
    "* The model utilises backpropagation with categorical cross-entropy loss function and L2 regularisation (controlled by hyperparameter $\\lambda$).\n",
    "\n",
    "3. **Training**\n",
    "\n",
    "Two models with the aforementioned architecture were trained separately on the same dataset:\n",
    "* Model 1: Batch gradient descent with a fixed learning rate $\\alpha$.\n",
    "* Model 2: Mini-batch gradient descent with the Adam optimiser.\n",
    "\n",
    "4. **Results**\n",
    "* Model 1: 92.0% accuracy after 500 iterations on training data. 91.8% accuracy on cross validation data.\n",
    "* Model 2: 99.1% accuracy after 30 iterations on training data. 97.3% accuracy on cross validation data."
   ]
  },
  {
   "cell_type": "markdown",
   "id": "77b8425d-ed7f-467e-a34c-6d5418c1bb07",
   "metadata": {
    "jp-MarkdownHeadingCollapsed": true
   },
   "source": [
    "## 2. Concepts\n",
    "### 2.1 Perceptron\n",
    "The perceptron was invented by Frank Rosenblatt in 1957 and mimics a biological neuron as the fundamental block in artificial neural networks. Conceptually, you can think of it as a single neuron which takes in a number of inputs $\\vec{x}$ and produces a single output $a$. The way it does this is that the neuron has weights for each input and will compute the weighted sum of inputs before putting it through a function to determine whether the output is 0 or 1.\n",
    "\n",
    "<img src='fig_2.1.1.png' width='500' style='margin:auto'>\n",
    "\n",
    "The original perceptron utilised the following function called the binary step function to mimic a biological neuron very closely:\n",
    "$$g(z) = \n",
    "\\begin{cases} \n",
    "1 & \\text{if } z \\geqslant 0\\\\\n",
    "0 & \\text{otherwise.}\n",
    "\\end{cases}$$\n",
    "Just like how a biological neuron fires after incoming signals exceed a certain threshold, the perceptron utilising the binary step function produces an output of 1 in a similar fashion. In the modern day, this is no longer the only function that perceptrons use. Outputs can vary from -1 to 1 or from 0 to 1 depending on the activation function chosen. \n",
    "\n",
    "Do not worry about $g$ and $z$ for now, they will sense when we unpack them later on. Just keep in mind the concept that perceptrons were invented to mimic biological neuron firing and that they take in multiple inputs and produce one output. Later, we will break down how $z$ is derived, but first, let's see how these perceptrons connect to form a neural network.\n",
    "\n",
    "### 2.2 What is a Neural Network?\n",
    "A neural network is a collection of perceptrons often organised in layers such that the output vector from each layer of perceptrons will be read as inputs by the next layer, eventually producing predictions based on the original inputs. Think of $\\vec{A}^{[1]}$, $\\vec{A}^{[2]}$ and $\\vec{A}^{[3]}$ as vectors which contain the outputs from each perceptron collectively forming a vector.\n",
    "\n",
    "<img src='fig_2.2.1.png' width='600' style='margin:auto'>\n",
    "\n",
    "$\\vec{X}$ is the input information and $\\vec{A}^{[3]}$ is the output/prediction. As the information goes through each layer, it gets transformed and abstracted such that earlier layers may detect only edges and curves, but deeper layers would piece together that information and detect more complex things like loops and corners. This is how neural networks can be used to perform complex binary/multiclass classifications or even regressions.\n",
    "\n",
    "### 2.3 Linear Combination + Activation Functions\n",
    "\n",
    "Now we will uncover what goes on within the perceptron and see how that eventually applied to a neural network. As mentioned previously, the perceptron takes in a number of inputs and assigns weights to them. What happens underneath is actually just a simple linear equation.\n",
    "\n",
    "$$z = w*x + b$$\n",
    "\n",
    "where $w$ is the weight, $x$ is the single input and $b$ is the bias for that equation. $w$ and $b$ are the parameters that will be subject to tuning when the model is trained. During the prediction, they are constants which transform $x$ and produce $z$.\n",
    "\n",
    "However, if this linear equation were all there was to the neural network, layering perceptrons would be useless because it would eventually retain that linearity and just produce a complicated form of linear regression. As such, we would need to pass $z$ through a function $g()$ to introduce non-linearity such that each perceptron can 'make judgement' on its output based on the weighted sum of inputs. This function $g()$ is known as the activation function.\n",
    "\n",
    "$$a = g(z) \\text{ where } g \\text{ is the activation function}$$\n",
    "\n",
    "There now exists quite a few activation functions, namely the Sigmoid, tanh, ReLU, and Softmax function, these will be unpacked later on during implementation. Just note that the some activation functions will perform in a similar way to the aforementioned binary step function, where the weighted sum is assessed and if it passes a threshold, will output a distinctly different value than if the threshold was not passed. Other functions, rather than producing a binary output, may produce an output ranging from 0 to 1 or even -1 to 1.\n",
    "\n",
    "When this concept is applied to a neural network, it will just include the multiplication of vectors as such:\n",
    "\n",
    "$$\\vec{z} = \\vec{w}^{T}\\vec{x} + \\vec{b}$$\n",
    "$$\\vec{a} = g(\\vec{z})$$\n",
    "\n",
    "This output $a$ is either the prediction (output layer) or passed to the next layer (hidden layer). Each layer that performs this calculation will have outputs passed on to the next. This is called forward propagation.\n",
    "\n",
    "### 2.4 Loss & Backpropagation\n",
    "\n",
    "Loss is essentially a score which measures how wrong a model's prediction is relative to the true value. Since we are attempting multiclass classification, we will be using a Categorical Cross-Entropy Loss Function. A simple explanation for this loss function would be as such:\n",
    "1.  A model outputs a probability for each potential outcome, let's say they favour 3 giving it a probability of 0.8.\n",
    "2.  The loss function will perform $-\\log{}$ on the probability to measure the 'surprise' factor for the actual number, returning a vector of shape (10, 1) from the prediction vector also of shape (10, 1) which assigned probabilities to each possible outcome ranging 0 - 9.\n",
    "3.  Since we one-hot encode the actual value (where a value of say 3 is transformed to a (10, 1) vector where all values are 0 except the 4th index, since 1st index is value 0), we multiply the one-hot encoded vector with the prediction vector, leaving all other log probabilities to be 0 except the actual value, showing how 'surprised' the model should be if it guessed right or wrong.\n",
    "\n",
    "This happens when the model predicts one example. Usually, we calculate the **cost** which is the mean loss for a model throughout a dataset. This sequence is how we get to the equation below:\n",
    "\n",
    "$$\\text{Cost } = -\\frac{1}{m}\\sum_{i = 1}^{m}\\sum_{j = 1}^{C}{y}_{i,j}\\cdot{\\log{\\hat{y}_{i,j}}}$$\n",
    "\n",
    "$m$ = number of training examples <br>\n",
    "$C$ = number of classes (multiclass classifciation) <br>\n",
    "${y}_{i}$ = actual value <br>\n",
    "$\\hat{y}_{i}$ = predicted value\n",
    "\n",
    "Backpropagation is where the 'learning' takes place in a model. The general process is as such:\n",
    "\n",
    "1. A model starts off with random weights and biases and produces predictions.\n",
    "2. We then compute the loss which indicates how far the model's predictions are from the actual value.\n",
    "3. This loss is then used to find the gradients for each weight $w$ and bias $b$ in the neural network, often using the chain rule. These gradients tell us the direction and steepness the current $w$ or $b$ is on and has to move to.\n",
    "4. Gradient descent is used to push $w$ and $b$ closer and closer to the bottom of the slope in order to minimise the loss function. This is done using the product of the gradient and a learning rate {\\alpha} which is a hyperparameter determining how 'big of a step' the variable should take.\n",
    "   $$\\frac{dL}{dw} = \\frac{dL}{da}\\cdot{\\frac{da}{dz}}\\cdot{\\frac{dz}{dw}}$$\n",
    "   $$w := w - {\\alpha}\\frac{dL}{dw}$$\n",
    "6. After doing this many times, one hopes for the model to converge and reach a minimum point (global minima), ideally without getting stuck in some ditches along the way (local minima).\n",
    "\n",
    "### 2.5 Regularisation & Optimisation\n",
    "\n",
    "Regularisation is a way to prevent a model from overfitting, which means that it performs very well on the training data but does not perform well on the test data because it fails to generalise. Think of overfitting like someone memorising test answers from a cheat sheet rather than actually understanding the concepts to help them answer new questions correctly.\n",
    "\n",
    "To reduce overfitting, we add a regularisation term to the model’s cost function — this term penalises complex models by discouraging very large weights. Large weights are often associated with overly sensitive decision boundaries that memorise noise instead of learning general patterns.\n",
    "\n",
    "$$\\text{Cost } = \\text{Loss } + \\lambda\\sum_{j}{w}^{2}_{j}$$\n",
    "\n",
    "$\\text{Loss}$ = how wrong the predicted values are from actual values\n",
    "$\\lambda$ = A hyperparameter which controls how much penalty is applied (regularisation strength)\n",
    "$\\sum_{j}{w}^{2}_{j}$ = The sum of squared weights, the L2 penalty.\n",
    "\n",
    "Optimisation essentially means fine-tuning the way a model guesses to get the most accurate prediction possible with a specific model architecture. In this case, we are using the Adam (Adaptive Moment Estimation) Optimiser in Model 2 which combines:\n",
    "* Momentum\n",
    "* RMSProp\n",
    "\n",
    "This makes it particularly useful for training deep neural networks where the cost landscape can be very complex and irregular. More will be shared on the Adam Optimiser later on."
   ]
  },
  {
   "cell_type": "markdown",
   "id": "9e36110d-0ad8-4524-9abb-6f30999831b8",
   "metadata": {},
   "source": [
    "## 3. Data\n",
    "### 3.1 Dataset Summary\n",
    "Firstly, we import the 3 libraries required to manipulate the data and perform calculations such as matrix multiplication much faster than with regular Python. Read the data from the csv file and visualise a few examples of handwritten digits to gain an understanding of the data we are working with.\n",
    "\n",
    "Although the dataset claims to be clean , we should perform a secondary check to ensure there are no null values. Once done, I shuffle the dataset to prepare it for slicing into training and cross validation data."
   ]
  },
  {
   "cell_type": "code",
   "execution_count": 1,
   "id": "b444e580-b294-4f53-8194-1ff656d7a4db",
   "metadata": {},
   "outputs": [],
   "source": [
    "import pandas as pd\n",
    "import numpy as np\n",
    "import matplotlib.pyplot as plt"
   ]
  },
  {
   "cell_type": "code",
   "execution_count": 2,
   "id": "e75f5747-2816-4dcb-aca9-c9b8dcb3b76c",
   "metadata": {},
   "outputs": [],
   "source": [
    "train_df = pd.read_csv('train.csv')"
   ]
  },
  {
   "cell_type": "code",
   "execution_count": 3,
   "id": "647af03b-01e2-4b05-a6b8-5dcc50c2a7bd",
   "metadata": {
    "scrolled": true
   },
   "outputs": [
    {
     "data": {
      "image/png": "[encoded data removed]",
      "text/plain": [
       "<Figure size 1000x500 with 10 Axes>"
      ]
     },
     "metadata": {},
     "output_type": "display_data"
    }
   ],
   "source": [
    "plt.figure(figsize=(10,5))\n",
    "\n",
    "for digit in range(10):\n",
    "    example = train_df[train_df['label'] == digit].iloc[0,1:].values\n",
    "    image = example.reshape(28,28)\n",
    "\n",
    "    plt.subplot(2,5,digit+1)\n",
    "    plt.imshow(image, cmap='gray')\n",
    "    plt.title(f'Digit: {digit}')\n",
    "    plt.axis('off')\n",
    "\n",
    "plt.tight_layout()\n",
    "plt.show()"
   ]
  },
  {
   "cell_type": "markdown",
   "id": "6fd8d5e4-2bc7-41a7-951d-fa4374832d24",
   "metadata": {
    "scrolled": true
   },
   "source": [
    "Performing a check to ensure there are no null values and that the dataset is clean."
   ]
  },
  {
   "cell_type": "code",
   "execution_count": 4,
   "id": "86904b26-81cd-437f-90a6-47f73576699a",
   "metadata": {},
   "outputs": [
    {
     "data": {
      "text/plain": [
       "count       785\n",
       "unique        1\n",
       "top       False\n",
       "freq        785\n",
       "dtype: object"
      ]
     },
     "execution_count": 4,
     "metadata": {},
     "output_type": "execute_result"
    }
   ],
   "source": [
    "train_df.isnull().any().describe()"
   ]
  },
  {
   "cell_type": "code",
   "execution_count": 5,
   "id": "1643b13b-1f02-46cd-9445-f8422cd1b2ee",
   "metadata": {},
   "outputs": [
    {
     "name": "stdout",
     "output_type": "stream",
     "text": [
      "(42000, 785)\n"
     ]
    },
    {
     "data": {
      "text/html": [
       "<div>\n",
       "<style scoped>\n",
       "    .dataframe tbody tr th:only-of-type {\n",
       "        vertical-align: middle;\n",
       "    }\n",
       "\n",
       "    .dataframe tbody tr th {\n",
       "        vertical-align: top;\n",
       "    }\n",
       "\n",
       "    .dataframe thead th {\n",
       "        text-align: right;\n",
       "    }\n",
       "</style>\n",
       "<table border=\"1\" class=\"dataframe\">\n",
       "  <thead>\n",
       "    <tr style=\"text-align: right;\">\n",
       "      <th></th>\n",
       "      <th>label</th>\n",
       "      <th>pixel0</th>\n",
       "      <th>pixel1</th>\n",
       "      <th>pixel2</th>\n",
       "      <th>pixel3</th>\n",
       "      <th>pixel4</th>\n",
       "      <th>pixel5</th>\n",
       "      <th>pixel6</th>\n",
       "      <th>pixel7</th>\n",
       "      <th>pixel8</th>\n",
       "      <th>...</th>\n",
       "      <th>pixel774</th>\n",
       "      <th>pixel775</th>\n",
       "      <th>pixel776</th>\n",
       "      <th>pixel777</th>\n",
       "      <th>pixel778</th>\n",
       "      <th>pixel779</th>\n",
       "      <th>pixel780</th>\n",
       "      <th>pixel781</th>\n",
       "      <th>pixel782</th>\n",
       "      <th>pixel783</th>\n",
       "    </tr>\n",
       "  </thead>\n",
       "  <tbody>\n",
       "    <tr>\n",
       "      <th>19248</th>\n",
       "      <td>2</td>\n",
       "      <td>0</td>\n",
       "      <td>0</td>\n",
       "      <td>0</td>\n",
       "      <td>0</td>\n",
       "      <td>0</td>\n",
       "      <td>0</td>\n",
       "      <td>0</td>\n",
       "      <td>0</td>\n",
       "      <td>0</td>\n",
       "      <td>...</td>\n",
       "      <td>0</td>\n",
       "      <td>0</td>\n",
       "      <td>0</td>\n",
       "      <td>0</td>\n",
       "      <td>0</td>\n",
       "      <td>0</td>\n",
       "      <td>0</td>\n",
       "      <td>0</td>\n",
       "      <td>0</td>\n",
       "      <td>0</td>\n",
       "    </tr>\n",
       "    <tr>\n",
       "      <th>2421</th>\n",
       "      <td>2</td>\n",
       "      <td>0</td>\n",
       "      <td>0</td>\n",
       "      <td>0</td>\n",
       "      <td>0</td>\n",
       "      <td>0</td>\n",
       "      <td>0</td>\n",
       "      <td>0</td>\n",
       "      <td>0</td>\n",
       "      <td>0</td>\n",
       "      <td>...</td>\n",
       "      <td>0</td>\n",
       "      <td>0</td>\n",
       "      <td>0</td>\n",
       "      <td>0</td>\n",
       "      <td>0</td>\n",
       "      <td>0</td>\n",
       "      <td>0</td>\n",
       "      <td>0</td>\n",
       "      <td>0</td>\n",
       "      <td>0</td>\n",
       "    </tr>\n",
       "    <tr>\n",
       "      <th>18413</th>\n",
       "      <td>3</td>\n",
       "      <td>0</td>\n",
       "      <td>0</td>\n",
       "      <td>0</td>\n",
       "      <td>0</td>\n",
       "      <td>0</td>\n",
       "      <td>0</td>\n",
       "      <td>0</td>\n",
       "      <td>0</td>\n",
       "      <td>0</td>\n",
       "      <td>...</td>\n",
       "      <td>0</td>\n",
       "      <td>0</td>\n",
       "      <td>0</td>\n",
       "      <td>0</td>\n",
       "      <td>0</td>\n",
       "      <td>0</td>\n",
       "      <td>0</td>\n",
       "      <td>0</td>\n",
       "      <td>0</td>\n",
       "      <td>0</td>\n",
       "    </tr>\n",
       "    <tr>\n",
       "      <th>14858</th>\n",
       "      <td>8</td>\n",
       "      <td>0</td>\n",
       "      <td>0</td>\n",
       "      <td>0</td>\n",
       "      <td>0</td>\n",
       "      <td>0</td>\n",
       "      <td>0</td>\n",
       "      <td>0</td>\n",
       "      <td>0</td>\n",
       "      <td>0</td>\n",
       "      <td>...</td>\n",
       "      <td>0</td>\n",
       "      <td>0</td>\n",
       "      <td>0</td>\n",
       "      <td>0</td>\n",
       "      <td>0</td>\n",
       "      <td>0</td>\n",
       "      <td>0</td>\n",
       "      <td>0</td>\n",
       "      <td>0</td>\n",
       "      <td>0</td>\n",
       "    </tr>\n",
       "    <tr>\n",
       "      <th>33278</th>\n",
       "      <td>6</td>\n",
       "      <td>0</td>\n",
       "      <td>0</td>\n",
       "      <td>0</td>\n",
       "      <td>0</td>\n",
       "      <td>0</td>\n",
       "      <td>0</td>\n",
       "      <td>0</td>\n",
       "      <td>0</td>\n",
       "      <td>0</td>\n",
       "      <td>...</td>\n",
       "      <td>0</td>\n",
       "      <td>0</td>\n",
       "      <td>0</td>\n",
       "      <td>0</td>\n",
       "      <td>0</td>\n",
       "      <td>0</td>\n",
       "      <td>0</td>\n",
       "      <td>0</td>\n",
       "      <td>0</td>\n",
       "      <td>0</td>\n",
       "    </tr>\n",
       "  </tbody>\n",
       "</table>\n",
       "<p>5 rows × 785 columns</p>\n",
       "</div>"
      ],
      "text/plain": [
       "       label  pixel0  pixel1  pixel2  pixel3  pixel4  pixel5  pixel6  pixel7  \\\n",
       "19248      2       0       0       0       0       0       0       0       0   \n",
       "2421       2       0       0       0       0       0       0       0       0   \n",
       "18413      3       0       0       0       0       0       0       0       0   \n",
       "14858      8       0       0       0       0       0       0       0       0   \n",
       "33278      6       0       0       0       0       0       0       0       0   \n",
       "\n",
       "       pixel8  ...  pixel774  pixel775  pixel776  pixel777  pixel778  \\\n",
       "19248       0  ...         0         0         0         0         0   \n",
       "2421        0  ...         0         0         0         0         0   \n",
       "18413       0  ...         0         0         0         0         0   \n",
       "14858       0  ...         0         0         0         0         0   \n",
       "33278       0  ...         0         0         0         0         0   \n",
       "\n",
       "       pixel779  pixel780  pixel781  pixel782  pixel783  \n",
       "19248         0         0         0         0         0  \n",
       "2421          0         0         0         0         0  \n",
       "18413         0         0         0         0         0  \n",
       "14858         0         0         0         0         0  \n",
       "33278         0         0         0         0         0  \n",
       "\n",
       "[5 rows x 785 columns]"
      ]
     },
     "execution_count": 5,
     "metadata": {},
     "output_type": "execute_result"
    }
   ],
   "source": [
    "train_df = train_df.sample(frac = 1)\n",
    "print(train_df.shape)\n",
    "train_df.head()"
   ]
  },
  {
   "cell_type": "markdown",
   "id": "934faaae-ca23-45ea-b9c6-bf19fd803740",
   "metadata": {},
   "source": [
    "### 3.2 Training/Validation Split\n",
    "Having shuffled the training data, slice the data into X_train and Y_train, X_cv and Y_cv. Afterwards, check on the distribution of values to ensure that the dataset reflects an equal number of examples for each value ranging from 0 - 9."
   ]
  },
  {
   "cell_type": "code",
   "execution_count": 6,
   "id": "cb7e2a27-0d2c-4e08-bc43-f81fc78a1453",
   "metadata": {},
   "outputs": [],
   "source": [
    "X_train = train_df.iloc[:35000,1:]\n",
    "X_cv = train_df.iloc[35000:,1:]\n",
    "Y_train = train_df.iloc[:35000,0]\n",
    "Y_cv = train_df.iloc[35000:,0]"
   ]
  },
  {
   "cell_type": "code",
   "execution_count": 7,
   "id": "49435353-4c9e-4e42-a247-8e28cfbcb295",
   "metadata": {},
   "outputs": [
    {
     "data": {
      "image/png": "[encoded data removed]",
      "text/plain": [
       "<Figure size 640x480 with 1 Axes>"
      ]
     },
     "metadata": {},
     "output_type": "display_data"
    }
   ],
   "source": [
    "Y_counter = {}\n",
    "for num in Y_train:\n",
    "    if num in Y_counter:\n",
    "        Y_counter[num] += 1\n",
    "    else:\n",
    "        Y_counter[num] = 1\n",
    "plt.bar(Y_counter.keys(), Y_counter.values())\n",
    "plt.xlabel('Number')\n",
    "plt.ylabel('Frequency')\n",
    "plt.show()"
   ]
  },
  {
   "cell_type": "code",
   "execution_count": 8,
   "id": "804ac4ec-f14a-49ab-86f0-191f83b4a025",
   "metadata": {},
   "outputs": [
    {
     "data": {
      "image/png": "[encoded data removed]",
      "text/plain": [
       "<Figure size 640x480 with 1 Axes>"
      ]
     },
     "metadata": {},
     "output_type": "display_data"
    }
   ],
   "source": [
    "Y_counter = {}\n",
    "for num in Y_cv:\n",
    "    if num in Y_counter:\n",
    "        Y_counter[num] += 1\n",
    "    else:\n",
    "        Y_counter[num] = 1\n",
    "plt.bar(Y_counter.keys(), Y_counter.values())\n",
    "plt.xlabel('Number')\n",
    "plt.ylabel('Frequency')\n",
    "plt.show()"
   ]
  },
  {
   "cell_type": "markdown",
   "id": "4ac4e7b0-cee1-4644-a2b1-aed7a91a0015",
   "metadata": {},
   "source": [
    "### 3.3 Normalisation\n",
    "We noticed that the dataset has pixel values which range from 0 - 255. This range is not compatible with neural networks which usually deal with a range of values from 0 - 1. Thus to make the pixel values more readable, we normalise the training data by dividing everything by 255 and transforming the vectors for each example such that they are (n, 1) instead of (1, n)."
   ]
  },
  {
   "cell_type": "code",
   "execution_count": 9,
   "id": "63935ba9-c0a2-436f-b145-c035008b6911",
   "metadata": {},
   "outputs": [
    {
     "name": "stdout",
     "output_type": "stream",
     "text": [
      "255\n",
      "255\n"
     ]
    }
   ],
   "source": [
    "print(X_train.max().max())\n",
    "print(X_cv.max().max())"
   ]
  },
  {
   "cell_type": "code",
   "execution_count": 10,
   "id": "6bd87b3e-3b19-4f76-b770-602bd0a90cda",
   "metadata": {},
   "outputs": [
    {
     "name": "stdout",
     "output_type": "stream",
     "text": [
      "1.0\n",
      "1.0\n"
     ]
    }
   ],
   "source": [
    "X_train = np.divide(X_train, 255).T\n",
    "X_cv = np.divide(X_cv, 255).T\n",
    "print(X_train.max().max())\n",
    "print(X_cv.max().max())"
   ]
  },
  {
   "cell_type": "code",
   "execution_count": 11,
   "id": "2dae8c28-06ea-417b-a4f8-a6af78ecaa38",
   "metadata": {},
   "outputs": [
    {
     "name": "stdout",
     "output_type": "stream",
     "text": [
      "(784, 35000)\n",
      "(784, 7000)\n"
     ]
    }
   ],
   "source": [
    "print(X_train.shape)\n",
    "print(X_cv.shape)"
   ]
  },
  {
   "cell_type": "markdown",
   "id": "ae5c64e3-5d14-4b66-8b9e-4a4e33d8b48a",
   "metadata": {},
   "source": [
    "### 3.4 One-Hot Encoding\n",
    "Here, I define a one-hot encoding function which turns each label Y from its values to a vector of shape (1, 10) where all values are 0 except for the indexed position of the value which will be 1. E.g. 2 --> [0, 0, 1, 0, 0, ...]\n",
    "\n",
    "Although the vector should take the shape (10, 1) instead of (1, 10) to be used in matrix multiplication later on, I only code the transformation later and did not include it in the one-hot encoding function."
   ]
  },
  {
   "cell_type": "code",
   "execution_count": 12,
   "id": "d4a9ab6a-7e97-4560-b3c4-cdd1c6b6880f",
   "metadata": {},
   "outputs": [],
   "source": [
    "def one_hot(labels):\n",
    "    one_hot_labels = []\n",
    "\n",
    "    for label in labels:\n",
    "        vector = np.zeros(10)\n",
    "        vector[label] = 1\n",
    "        one_hot_labels.append(vector)\n",
    "\n",
    "    return np.array(one_hot_labels)"
   ]
  },
  {
   "cell_type": "markdown",
   "id": "dbb5237c-5a66-472f-81c2-f681a5164a13",
   "metadata": {},
   "source": [
    "## 4. Model\n",
    "### 4.1 Parameter Initialisation\n",
    "This is where the model architecture is mostly built, by initialising the weights $w$ and biases $b$ at each layer of the neural network. We are adopting a neural network architecture with 784 input neurons, 256 1st hidden layer neurons, 64 2nd hidden layer neurons, and 10 output layer neurons.\n",
    "\n",
    "Usually, parameter initialisation keeps biases at zero and randomises the weights between 0 and 1. This cases opts for the use of **He Initialisation** after issues with vanishing and exploding gradients in previous iterations of the project. The goal of He Initialisation is to ensure that the starting signals do not end up becoming either too weak or too noisy as it continues through the neural network because that would result in problematic predictions down the road.\n",
    "\n",
    "In He Initialisation, we use this before putting it into a ReLU function because ReLU usually zeros out half the outputs, halving the variance in the process. To counter this, we want the variance to be twice as large in order to compensate: \n",
    "\n",
    "$$\\text{Var}(W) = \\frac{2}{n}$$\n",
    "\n",
    "Before the Softmax function, there is no need to keep the variance twice as large since it does not zero out half the outputs like ReLU, thus we can use a smaller variance since there isn't much to compensate for:\n",
    "\n",
    "$$\\text{Var}(W) = \\frac{1}{n}$$"
   ]
  },
  {
   "cell_type": "code",
   "execution_count": 13,
   "id": "f679ac78-f2d9-4eb4-939c-c3450f957257",
   "metadata": {},
   "outputs": [],
   "source": [
    "def init_params():\n",
    "    W1 = np.random.randn(256, 784) * np.sqrt(2 / 784)\n",
    "    b1 = np.zeros((256, 1))\n",
    "    W2 = np.random.randn(64, 256) * np.sqrt(2 / 256)\n",
    "    b2 = np.zeros((64, 1))\n",
    "    W3 = np.random.randn(10, 64) * np.sqrt(1 / 64)\n",
    "    b3 = np.zeros((10, 1))\n",
    "    params = {'W1':W1, 'b1':b1, 'W2':W2, 'b2':b2, 'W3':W3, 'b3':b3}\n",
    "    return params"
   ]
  },
  {
   "cell_type": "markdown",
   "id": "2dafe48c-9544-4fba-869b-a008d350889f",
   "metadata": {},
   "source": [
    "### 4.2 Activation Functions\n",
    "There are many activation functions, the 6 most common ones being:\n",
    "* Sigmoid: $y = \\frac{1}{1 + e^{-z}}$\n",
    "* tanh: $y = \\tanh(z)$\n",
    "* ReLU: $y = \\max(z,0)$\n",
    "* Softplus: $y = \\log(1 + e^z)$\n",
    "* Leaky ReLU: $y = \\max(z, \\alpha z)$, where $0 \\lt \\alpha \\lt 1$ and is typically a small number like 0.01.\n",
    "* ELU: $y = \\begin{cases} z,~~z\\gt 0 \\\\ \\alpha(e^z - 1)~~z \\leq 0 \\end{cases}$\n",
    "\n",
    "<img src='fig_4.2.1.png' width='1000' style='margin:auto'>\n",
    "\n",
    "For our case, we use the ReLU function for hidden layers and Softmax function for output layer. \n",
    "\n",
    "**ReLU Function** is preferred for the hidden layers because it aids in solving the problem of vanishing gradients due to have a gradient of 1 for positive values, letting gradients flow better during backpropagation. Additionally, it contains 'sparsity' (where many neurons have output 0, forcing the model to focus on important features) which allows for better generalisation in neural networks. Furthermore, the gradient of the cost function will be smoother compared to something like Sigmoid which tends to flatten the gradient if the values are too positive or negative, making the gradient more choppy and prone to local minima.\n",
    "\n",
    "**Softmax Function** works specifically for the output layer for Multiclass Classification by essentially turning a vector into probabilities between 0 and 1. It does so by raising $e$ to the power of the value in the vector (this exaggerates the value) and then divides that result by the sum of all $e^z$ so that the result ranges from 0 to 1, emphasising the value that the model likely thinks is the prediction.\n",
    "\n",
    "<img src='fig_4.2.2.webp' width='600' style='margin:auto'>"
   ]
  },
  {
   "cell_type": "code",
   "execution_count": 14,
   "id": "4b4feb0f-714b-47b2-b1a7-6b1d8c3bf88d",
   "metadata": {},
   "outputs": [],
   "source": [
    "def ReLU(Z):\n",
    "    return np.maximum(0, Z)\n",
    "\n",
    "def Softmax(Z):\n",
    "    Z_stable = Z - np.max(Z, axis=0, keepdims=True)  # numerical stability\n",
    "    exp_Z = np.exp(Z_stable)\n",
    "    return exp_Z / np.sum(exp_Z, axis=0, keepdims=True)"
   ]
  },
  {
   "cell_type": "markdown",
   "id": "866c8b33-9be4-4b52-8233-2d0ed841eb82",
   "metadata": {},
   "source": [
    "### 4.3 Forward Propagation\n",
    "As mentioned earlier, forward propagation relies on the following 2 equations for each layer:\n",
    "$$\\vec{z} = \\vec{w}\\cdot{\\vec{x}} + \\vec{b}$$\n",
    "$$\\vec{a} = g(\\vec{z})$$\n",
    "The steps for each layer is almost entirely the same, with the only difference being the activation function used. The use of matrix multiplication allows each layer to be computed in a single equation, which is also where we capitalise on Numpy's dot product method for faster computation. At this stage, it is important to take note of the shape of the vector to ensure no errors due to mismatching of shape."
   ]
  },
  {
   "cell_type": "code",
   "execution_count": 15,
   "id": "f38fba79-6f35-4ccd-a057-a3a549aea64a",
   "metadata": {},
   "outputs": [],
   "source": [
    "def forward_prop(params, X):\n",
    "    W1, b1 = params['W1'], params['b1']\n",
    "    W2, b2 = params['W2'], params['b2']\n",
    "    W3, b3 = params['W3'], params['b3']\n",
    "    # First layer\n",
    "    Z1 = np.dot(W1, X) + b1          # shape (256, 1)\n",
    "    A1 = ReLU(Z1)                    # shape (256, 1)\n",
    "    # Second layer\n",
    "    Z2 = np.dot(W2, A1) + b2         # shape (64, 1)\n",
    "    A2 = ReLU(Z2)                    # shape (64, 1)\n",
    "    # Third layer\n",
    "    Z3 = np.dot(W3, A2) + b3         # shape (10, 1)\n",
    "    A3 = Softmax(Z3)                 # shape (10, 1)\n",
    "    forw_values = {'Z1':Z1, 'A1':A1, 'Z2':Z2, 'A2':A2, 'Z3':Z3, 'A3':A3}\n",
    "    return A3, forw_values"
   ]
  },
  {
   "cell_type": "markdown",
   "id": "c9ce48e9-3c62-472f-9ff2-0514820ec25d",
   "metadata": {},
   "source": [
    "### 4.4 Backward Propagation\n",
    "Back propagation should rely on the following equation for the derivative of ReLU and Softmax respectively:\n",
    "$$\\text{Softmax: } \\frac{dL}{dz} = a - y$$\n",
    "$$\\text{ReLU: } \\frac{dL}{dz} = \\begin{cases} \n",
    "1 & \\text{if } z \\gt 0\\\\\n",
    "0 & \\text{otherwise.}\n",
    "\\end{cases}$$\n",
    "\n",
    "Apart from this, using the chain rule for the variables as follows:\n",
    "$$\\frac{dL}{dw} = \\frac{dL}{da}\\cdot{\\frac{da}{dz}}\\cdot{\\frac{dz}{dw}}$$\n",
    "\n",
    "As we work backwards, finding the gradients for each variable:\n",
    "$$\\frac{dL}{dZ^{[3]}} = \\vec{A^{[3]}} - \\hat{y} \\text{ (Softmax Function)}$$\n",
    "$$\\frac{dL}{dW^{[3]}} = \\frac{dL}{dZ^{[3]}} \\cdot{\\frac{dZ^{[3]}}{dW^{[3]}}} = \\frac{1}{m}(\\frac{dL}{dZ^{[3]}}\\cdot{\\vec{(A^{[2]})^{T}}}) + \\frac{\\lambda}{m}{W^{[3]}}\\text{ (Regularisation Term)}$$\n",
    "$$\\frac{dL}{db^{[3]}} = \\frac{dL}{dZ^{[3]}} \\cdot{\\frac{dZ^{[3]}}{db^{[3]}}} = \\frac{1}{m}\\sum_{i=1}^{m}{\\frac{dL}{dZ^{[3]}}}$$\n",
    "$$\\frac{dL}{dA^{[2]}} = \\frac{dL}{dZ^{[3]}} \\cdot{\\frac{dZ^{[3]}}{dA^{[2]}}} = \\frac{1}{m}(\\frac{dL}{dZ^{[3]}} \\cdot{\\vec{(W^{[3]})^{T}}})$$\n",
    "$$\\frac{dL}{dZ^{[2]}} = \\frac{dL}{dA^{[2]}} \\cdot{\\frac{dA^{[2]}}{dZ^{[2]}}} = \\frac{dL}{dA^{[2]}} \\odot{g'(\\vec{Z^{[2]}})} \\text{ (ReLU Function)}$$\n",
    "$$...$$\n",
    "This will repeat for the next ReLU layer till all the derivatives of the weights and biases have been computed."
   ]
  },
  {
   "cell_type": "code",
   "execution_count": 16,
   "id": "bb94796b-4bcc-46a8-ab4c-aeee67b63d27",
   "metadata": {},
   "outputs": [],
   "source": [
    "def compute_cost(A3, Y, lambda_, params): ##\n",
    "    m = Y.shape[1]\n",
    "    W1, b1 = params['W1'], params['b1']\n",
    "    W2, b2 = params['W2'], params['b2']\n",
    "    W3, b3 = params['W3'], params['b3']\n",
    "    log_prob = np.log(A3+1e-8)\n",
    "    cross_entropy_loss = (-1/m)*np.sum(Y*log_prob)\n",
    "    regularisation_term = (lambda_ / (2 * m)) * (np.sum(W1 ** 2) + np.sum(W2 ** 2) + np.sum(W3 ** 2))\n",
    "    cost = cross_entropy_loss + regularisation_term\n",
    "    return cost"
   ]
  },
  {
   "cell_type": "code",
   "execution_count": 17,
   "id": "ab30030c-8742-40d3-91d7-d728abe1021c",
   "metadata": {},
   "outputs": [],
   "source": [
    "def ReLU_deriv(Z):\n",
    "    return Z > 0"
   ]
  },
  {
   "cell_type": "code",
   "execution_count": 18,
   "id": "8d347926-6de7-4791-8492-b5278c2e62ed",
   "metadata": {},
   "outputs": [],
   "source": [
    "def back_prop(X, Y, forw_values, params, lambda_):\n",
    "    m = Y.shape[1]\n",
    "    A1, Z1 = forw_values['A1'], forw_values['Z1']\n",
    "    A2, Z2 = forw_values['A2'], forw_values['Z2']\n",
    "    A3, Z3 = forw_values['A3'], forw_values['Z3']\n",
    "    W1, b1 = params['W1'], params['b1']\n",
    "    W2, b2 = params['W2'], params['b2']\n",
    "    W3, b3 = params['W3'], params['b3']\n",
    "    \n",
    "    dZ3 = A3 - Y            # A3 = dZ3 due to softmax function, shape (10, n)\n",
    "    dW3 = (1/m)*np.dot(dZ3,A2.T) + (lambda_/m)*W3              # shape (10, 64)\n",
    "    db3 = (1/m)*np.sum(dZ3, axis=1, keepdims=True)             # shape (10, 1)\n",
    "\n",
    "    dA2 = np.dot(params['W3'].T,dZ3)                           # shape (64, n)\n",
    "    dZ2 = dA2 * ReLU_deriv(Z2)                                 # shape (64, n)\n",
    "    dW2 = (1/m)*np.dot(dZ2,A1.T) + (lambda_/m)*W2              # shape (64, 256)\n",
    "    db2 = (1/m)*np.sum(dZ2, axis=1, keepdims=True)             # shape (64, 1)\n",
    "\n",
    "    dA1 = np.dot(params['W2'].T,dZ2)                           # shape (256, n)\n",
    "    dZ1 = dA1 * ReLU_deriv(Z1)                                 # shape (256, n)\n",
    "    dW1 = (1/m)*np.dot(dZ1,X.T) + (lambda_/m)*W1               # shape (256, 784)\n",
    "    db1 = (1/m)*np.sum(dZ1, axis=1, keepdims=True)             # shape (256, 1)\n",
    "    gradients = {'dZ3':dZ3, 'dW3':dW3, 'db3':db3, \n",
    "            'dZ2':dZ2, 'dW2':dW2, 'db2':db2,\n",
    "            'dZ1':dZ1, 'dW1':dW1, 'db1':db1}\n",
    "    return gradients"
   ]
  },
  {
   "cell_type": "markdown",
   "id": "e82aa65b-264f-4a26-be50-6cb1a8d00e64",
   "metadata": {},
   "source": [
    "### 4.5 Model 1: Batch Gradient Descent\n",
    "Once back propagation has been defined, it is time to implement our first model. This first model is simple because it takes the gradients at each step of backpropagation and multiplies it by a hyperparameter $\\alpha$ which is a fixed learning rate, determining how big of a step each $w$ or $b$ will take towards the minima.\n",
    "\n",
    "Before that, we define a prediction function and an accuracy function. \n",
    "* The prediction function finds the maximum probability within the vector $\\vec{A^{[3]}}$ and returns the index, essentially prediction.\n",
    "* The accuracy function takes the prediction and compares it against the actual answer. It then returns the percentage of times the prediction matches the actual answer.\n",
    "\n",
    "Then, we define a gradient descent algorithm for the first model, utilising Batch Gradient Descent with Fixed Learning Rate. At each step, the model will engage in:\n",
    "* *Forward Propagation:* Making prediction based on the input.\n",
    "* *Loss Computation:* Find the difference between output probabilities and the one-hot encoded actual answer.\n",
    "* *Back Propagation:* Find the gradients for each $w$ and $b$.\n",
    "* *Update Parameters:* Changing the values of $w$ and $b$ based on a fixed learning rate $\\alpha$ and their respective gradients."
   ]
  },
  {
   "cell_type": "code",
   "execution_count": 19,
   "id": "db585634-d6ec-41af-bcb6-34ff7e660101",
   "metadata": {},
   "outputs": [],
   "source": [
    "def get_prediction(A3):\n",
    "    return np.argmax(A3, 0)\n",
    "\n",
    "def get_accuracy(prediction, Y):\n",
    "    if isinstance(Y, pd.Series):\n",
    "        Y = Y.to_numpy()\n",
    "    if Y.ndim > 1 and Y.shape[0] > 1:\n",
    "        Y = np.argmax(Y, axis=0)\n",
    "    elif Y.ndim > 1:\n",
    "        Y = Y.flatten()\n",
    "    return np.mean(prediction == Y)"
   ]
  },
  {
   "cell_type": "code",
   "execution_count": 20,
   "id": "072d5855-04c8-4141-a286-3ce76d88bd2a",
   "metadata": {},
   "outputs": [],
   "source": [
    "def update_fixed(params, gradients, alpha):\n",
    "    params['W1'] -= alpha * gradients['dW1']\n",
    "    params['b1'] -= alpha * gradients['db1']\n",
    "    params['W2'] -= alpha * gradients['dW2']\n",
    "    params['b2'] -= alpha * gradients['db2']\n",
    "    params['W3'] -= alpha * gradients['dW3']\n",
    "    params['b3'] -= alpha * gradients['db3']\n",
    "    return params"
   ]
  },
  {
   "cell_type": "code",
   "execution_count": 21,
   "id": "fd1e2e0a-be93-4128-8d5a-2b14b79b0bc5",
   "metadata": {},
   "outputs": [],
   "source": [
    "def gradient_descent_fixed(X, Y, iterations, alpha, lambda_, itera):\n",
    "    params = init_params()\n",
    "    Y_trainhot = one_hot(Y).T\n",
    "    loss_hist = []\n",
    "    iter_hist = []\n",
    "    \n",
    "    for i in range(1, iterations+1):\n",
    "        A3, forw_values = forward_prop(params, X)\n",
    "        gradients = back_prop(X, Y_trainhot, forw_values, params, lambda_)\n",
    "        params = update_fixed(params, gradients, alpha)\n",
    "        \n",
    "        cost = compute_cost(A3, Y_trainhot, lambda_, params)\n",
    "        iter_hist.append(i)\n",
    "        loss_hist.append(cost)\n",
    "        \n",
    "        if (i % itera) == 0:\n",
    "            prediction = get_prediction(A3)\n",
    "            accuracy = get_accuracy(prediction, Y)\n",
    "            print(f'Iteration: {i}')\n",
    "            print(f'Loss: {cost}, Accuracy: {accuracy*100}')\n",
    "            \n",
    "\n",
    "    plt.plot(iter_hist, loss_hist)\n",
    "    plt.title('Training Loss over Iterations')\n",
    "    plt.xlabel('Iterations')\n",
    "    plt.ylabel('Loss')\n",
    "    plt.show()\n",
    "    \n",
    "    return params   "
   ]
  },
  {
   "cell_type": "markdown",
   "id": "dc4a2cee-7f34-4b53-a244-b2a5cb9e8ec5",
   "metadata": {},
   "source": [
    "### 4.6 Model 2: Mini-Batch + Adam\n",
    "Model 2 utilises a learning rate optimiser known as the **Adam Optimiser** (Adaptive Moment Estimation). This makes use of Momentum and RMSProp:\n",
    "* Momentum - Takes into account past gradients in previous iterations, getting the learning rate to make a bigger step if past gradients were steeper and a smaller step if past gradients were gentler.\n",
    "* RMSProp - Tracks the magnitude of past gradients by squaring them, adapting the learning rate to be smaller for large gradients (avoid overshooting) and larger for small gradients.\n",
    "\n",
    "This enables each iteration to utilise a **Mini-Batch Gradient Descent** so that the Adam Optimiser can update the learning rate frequently after each mini-batch. If it were to utilise batch gradient descent, the learning rate would only be able to update per batch, reducing effectiveness. Using Mini-Batch Gradient Descent is helpful as well since splitting each iteration into smaller batches can smooth out noise for the model compared to Stochastic Gradient Descent, preventing fluctuations that are too random or reactive.\n",
    "\n",
    "The Adam Optimiser follows the equations below:\n",
    "$$\\text{Momentum: } m_{t} = \\beta_{1} * m_{t-1} + (1 - \\beta_{1}) * g_{t}$$\n",
    "$$\\text{RMSProp: } v_{t} = \\beta_{2} * v_{t-1} + (1 - \\beta_{2}) * g^{2}_{t}$$\n",
    "$$\\bigtriangleup{w^{t}} = \\eta\\frac{m_{t}}{\\sqrt{v_{t} + \\epsilon}}$$\n",
    "$$w_{t+1} = w_{t} - \\bigtriangleup{w_{t}}$$\n",
    "\n",
    "$\\eta$: Initial learning rate <br>\n",
    "$g_{t}$: Gradient at time $t$ <br>\n",
    "$m_{t}$: Exponential average of gradients <br>\n",
    "$v_{t}$: Exponential average of square of gradients (exaggerates if gradients are erratic vs smooth) <br>\n",
    "$\\beta{1}$ and $\\beta{2}$: Hyperparameters controlling the decay rate of in $m_{t}$ and $v_{t}$ <br>"
   ]
  },
  {
   "cell_type": "code",
   "execution_count": 22,
   "id": "81817ad7-62fb-4a88-a646-9cb1a36809c1",
   "metadata": {},
   "outputs": [],
   "source": [
    "def update_adam(params, gradients, alpha, t, m, v, beta1=0.85, beta2=0.999, epsilon=1e-3):\n",
    "    t += 1\n",
    "    for key in params:\n",
    "        g = gradients['d'+key]\n",
    "        m[key] = beta1*m[key] + (1-beta1)*g\n",
    "        v[key] = beta2*v[key] + (1-beta2)*(g**2)\n",
    "        m_hat = m[key] / (1-beta1**t)\n",
    "        v_hat = v[key] / (1-beta2**t)\n",
    "        params[key] -= alpha * ((m_hat) / (np.sqrt(v_hat) + epsilon))\n",
    "        \n",
    "    return params, m, v, t"
   ]
  },
  {
   "cell_type": "code",
   "execution_count": 23,
   "id": "e61c631c-824d-47bd-bf26-043c2b7c13b5",
   "metadata": {},
   "outputs": [],
   "source": [
    "def mini_batch(X, Y, batch_size):\n",
    "    X = X.to_numpy() if hasattr(X, 'to_numpy') else X\n",
    "    Y = Y.to_numpy() if hasattr(Y, 'to_numpy') else Y\n",
    "\n",
    "    m = X.shape[1] if X.ndim > 1 else len(X)\n",
    "    perm = np.random.permutation(m)\n",
    "\n",
    "    X_mix = X[:, perm] if X.ndim > 1 else X[perm]\n",
    "    Y_mix = Y[perm] if Y.ndim > 1 else Y[perm]\n",
    "    \n",
    "    times = m // batch_size\n",
    "    mini_batches = []\n",
    "    \n",
    "    for i in range(times):\n",
    "        X_batch = X_mix[:, i*batch_size:(i+1)*batch_size]\n",
    "        Y_batch = Y_mix[i*batch_size:(i+1)*batch_size]\n",
    "        mini_batches.append((X_batch, Y_batch))\n",
    "    \n",
    "    if m % batch_size != 0:\n",
    "        X_batch = X_mix[:, times*batch_size:]\n",
    "        Y_batch = Y_mix[times*batch_size:]\n",
    "        mini_batches.append((X_batch, Y_batch))\n",
    "\n",
    "    return mini_batches"
   ]
  },
  {
   "cell_type": "code",
   "execution_count": 24,
   "id": "14e3b413-33ce-4e0d-9a81-febb40eb7fdc",
   "metadata": {},
   "outputs": [],
   "source": [
    "def gradient_descent_adam(X, Y, iterations, alpha, lambda_, itera):\n",
    "    params = init_params()\n",
    "    m = {key: np.zeros_like(value) for key, value in params.items()}\n",
    "    v = {key: np.zeros_like(value) for key, value in params.items()}\n",
    "    t = 0\n",
    "    loss_hist = []\n",
    "    iter_hist = []\n",
    "    \n",
    "    for i in range(1, iterations+1):\n",
    "        mini_batches = mini_batch(X, Y, 64)\n",
    "        for X_batch, Y_batch in mini_batches:\n",
    "            Y_batchhot = one_hot(Y_batch).T\n",
    "            A3, forw_values = forward_prop(params, X_batch)\n",
    "            gradients = back_prop(X_batch, Y_batchhot, forw_values, params, lambda_)\n",
    "            params, m, v, t = update_adam(params, gradients, alpha, t, m, v)\n",
    "            \n",
    "        Y_hot = one_hot(Y).T\n",
    "        A3_full, _ = forward_prop(params, X)\n",
    "        cost = compute_cost(A3_full, Y_hot, lambda_, params)\n",
    "        iter_hist.append(i)\n",
    "        loss_hist.append(cost)\n",
    "        \n",
    "        if (i % itera) == 0:\n",
    "            prediction = get_prediction(A3_full)\n",
    "            accuracy = get_accuracy(prediction, Y)\n",
    "            print(f'Iteration: {i}')\n",
    "            print(f'Loss: {cost}, Accuracy: {accuracy*100}')\n",
    "\n",
    "    plt.plot(iter_hist, loss_hist)\n",
    "    plt.title('Training Loss over Iterations')\n",
    "    plt.xlabel('Iterations')\n",
    "    plt.ylabel('Loss')\n",
    "    plt.show()\n",
    "        \n",
    "    return params"
   ]
  },
  {
   "cell_type": "markdown",
   "id": "9c0f699c-42ab-4d0d-9ff6-7dcf58a37d0a",
   "metadata": {},
   "source": [
    "## 5. Training\n",
    "At this stage, it is time to train the models. \n",
    "\n",
    "By checking the loss and accuracy across iterations of training, we can see how the models learn and compare their performance. This will allow us to compare the effectiveness of both models' architecture and the optimisation methods we incorporated into the model."
   ]
  },
  {
   "cell_type": "code",
   "execution_count": 25,
   "id": "db9270a5-f30a-45df-adcd-d89ad6658dfa",
   "metadata": {},
   "outputs": [
    {
     "name": "stdout",
     "output_type": "stream",
     "text": [
      "Iteration: 50\n",
      "Loss: 1.0969155656585052, Accuracy: 76.77142857142857\n",
      "Iteration: 100\n",
      "Loss: 0.6092773109313038, Accuracy: 84.94\n",
      "Iteration: 150\n",
      "Loss: 0.47344605577662235, Accuracy: 87.65428571428572\n",
      "Iteration: 200\n",
      "Loss: 0.40989315560207523, Accuracy: 88.80285714285714\n",
      "Iteration: 250\n",
      "Loss: 0.3718392643502236, Accuracy: 89.71142857142857\n",
      "Iteration: 300\n",
      "Loss: 0.3455771235252557, Accuracy: 90.31428571428572\n",
      "Iteration: 350\n",
      "Loss: 0.3257807207133841, Accuracy: 90.85428571428571\n",
      "Iteration: 400\n",
      "Loss: 0.30990740459789745, Accuracy: 91.26571428571428\n",
      "Iteration: 450\n",
      "Loss: 0.29670105173800976, Accuracy: 91.63142857142857\n",
      "Iteration: 500\n",
      "Loss: 0.28536224036289776, Accuracy: 91.96571428571428\n"
     ]
    },
    {
     "data": {
      "image/png": "[encoded data removed]",
      "text/plain": [
       "<Figure size 640x480 with 1 Axes>"
      ]
     },
     "metadata": {},
     "output_type": "display_data"
    }
   ],
   "source": [
    "params_fixed = gradient_descent_fixed(X_train, Y_train, 500, 0.05, 0.01, 50)"
   ]
  },
  {
   "cell_type": "code",
   "execution_count": 26,
   "id": "9984ca4a-7b78-4065-b483-73fc448aeecf",
   "metadata": {},
   "outputs": [
    {
     "name": "stdout",
     "output_type": "stream",
     "text": [
      "Iteration: 5\n",
      "Loss: 0.06508691864659093, Accuracy: 97.82285714285715\n",
      "Iteration: 10\n",
      "Loss: 0.05596224532894553, Accuracy: 98.18571428571428\n",
      "Iteration: 15\n",
      "Loss: 0.028273140476841256, Accuracy: 99.10285714285715\n",
      "Iteration: 20\n",
      "Loss: 0.04120571326356664, Accuracy: 98.63142857142857\n",
      "Iteration: 25\n",
      "Loss: 0.030113994520719757, Accuracy: 99.04285714285714\n",
      "Iteration: 30\n",
      "Loss: 0.027397639347784265, Accuracy: 99.09714285714286\n"
     ]
    },
    {
     "data": {
      "image/png": "[encoded data removed]",
      "text/plain": [
       "<Figure size 640x480 with 1 Axes>"
      ]
     },
     "metadata": {},
     "output_type": "display_data"
    }
   ],
   "source": [
    "params_adam = gradient_descent_adam(X_train, Y_train, 30, 0.005, 0.01, 5)"
   ]
  },
  {
   "cell_type": "markdown",
   "id": "4f2ca5ba-1c5c-4a91-90ad-828341a09493",
   "metadata": {},
   "source": [
    "## 6. Results\n",
    "Now, to ensure that the models are not overfit to the data and still has the ability to generalise, we test the model on the cross validation dataset."
   ]
  },
  {
   "cell_type": "code",
   "execution_count": 27,
   "id": "e8d14186-2a8e-438b-8591-c4a0106b156a",
   "metadata": {},
   "outputs": [],
   "source": [
    "def param_test(X, Y, params, lambda_):\n",
    "    Y_hot = one_hot(Y).T\n",
    "    A3, forw_values = forward_prop(params, X)\n",
    "    prediction = get_prediction(A3)\n",
    "    accuracy = get_accuracy(prediction, Y)\n",
    "    cost = compute_cost(A3, Y_hot, lambda_, params)\n",
    "    print(f'Loss: {cost}, Accuracy: {accuracy*100}')"
   ]
  },
  {
   "cell_type": "code",
   "execution_count": 28,
   "id": "96f9c71e-8d8e-4d21-a841-a5959e0b50dd",
   "metadata": {},
   "outputs": [
    {
     "name": "stdout",
     "output_type": "stream",
     "text": [
      "Loss: 0.28211849735677874, Accuracy: 91.75714285714285\n"
     ]
    }
   ],
   "source": [
    "param_test(X_cv, Y_cv, params_fixed, 0.01)"
   ]
  },
  {
   "cell_type": "code",
   "execution_count": 29,
   "id": "a5c2d9ef-ecb5-4149-8677-b8179af0a576",
   "metadata": {},
   "outputs": [
    {
     "name": "stdout",
     "output_type": "stream",
     "text": [
      "Loss: 0.09386520363713888, Accuracy: 97.28571428571429\n"
     ]
    }
   ],
   "source": [
    "param_test(X_cv, Y_cv, params_adam, 0.01)"
   ]
  },
  {
   "cell_type": "markdown",
   "id": "e0a3f4dc-8a11-42a2-9c55-f1c7816e2b82",
   "metadata": {},
   "source": [
    "After training and testing both models, we can observe a clear performance difference:\n",
    "* Model 1 (Fixed Learning Rate, Batch Gradient Descent) tested with a 91.8% accuracy.\n",
    "* Model 2 (Adam Optimiser, Mini-Batch Gradient Descent) tested with a 97.3% accuracy.\n",
    "\n",
    "Model 2 likely performed better due to the Adam Optimiser's ability to adapt the learning rate dynamically for each parameter. Unlike the fixed learning rate, Adam combines the advantages of momentum and RMSProp, allowing the model to:\n",
    "1. Escape shallow or poor local minima.\n",
    "2. Adjust learning rates per parameter more intelligently.\n",
    "3. Converge faster and more robustly, especially in deeper networks.\n",
    "\n",
    "Additionally, the use of mini-batch gradient descent helped smooth out noisy gradients while still providing more frequent updates than full batch descent. Future implementations could leverage from further fine tuning of hyperparameters (even though some attempt at doing so has been done, it could be done more systematically).\n",
    "\n",
    "Thus far, we have walked through the essential components of a neural network model as well as the underlying concepts behind them. We have also explored potential optimisation methods and regularisation to prevent overfitting all done in Python without external ML libraries. \n",
    "\n",
    "This concludes the successful implementation of the Neural Network from Scratch (MNIST). "
   ]
  }
 ],
 "metadata": {
  "kernelspec": {
   "display_name": "Python 3 (ipykernel)",
   "language": "python",
   "name": "python3"
  },
  "language_info": {
   "codemirror_mode": {
    "name": "ipython",
    "version": 3
   },
   "file_extension": ".py",
   "mimetype": "text/x-python",
   "name": "python",
   "nbconvert_exporter": "python",
   "pygments_lexer": "ipython3",
   "version": "3.9.6"
  }
 },
 "nbformat": 4,
 "nbformat_minor": 5
}
